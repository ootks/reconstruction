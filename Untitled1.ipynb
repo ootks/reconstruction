{
 "cells": [
  {
   "cell_type": "code",
   "execution_count": null,
   "id": "bd9db659-b57e-487f-896b-7c67ac0856f2",
   "metadata": {},
   "outputs": [],
   "source": [
    "import numpy as np\n",
    "import itertools as it\n"
   ]
  },
  {
   "cell_type": "code",
   "execution_count": null,
   "id": "e4aeae11-4a82-4742-a588-c5385b6a7950",
   "metadata": {},
   "outputs": [],
   "source": [
    "for z in it.product([2,-1,0,1,2], repeat=10):\n",
    "    A = np.array([[z[0], z[1], z[2],z[3]],[z[1],z[4],z[5],z[6]],[z[2],z[5],z[7],z[8]],[z[3],z[6],z[8],z[9]]])\n",
    "    "
   ]
  }
 ],
 "metadata": {
  "kernelspec": {
   "display_name": "Python 3 (ipykernel)",
   "language": "python",
   "name": "python3"
  },
  "language_info": {
   "codemirror_mode": {
    "name": "ipython",
    "version": 3
   },
   "file_extension": ".py",
   "mimetype": "text/x-python",
   "name": "python",
   "nbconvert_exporter": "python",
   "pygments_lexer": "ipython3",
   "version": "3.12.7"
  }
 },
 "nbformat": 4,
 "nbformat_minor": 5
}
