{
 "cells": [
  {
   "cell_type": "code",
   "execution_count": null,
   "id": "8c74e615-012e-4e9c-a52f-1ac86b7ac69c",
   "metadata": {},
   "outputs": [],
   "source": []
  }
 ],
 "metadata": {
  "kernelspec": {
   "display_name": "",
   "name": ""
  },
  "language_info": {
   "name": ""
  }
 },
 "nbformat": 4,
 "nbformat_minor": 5
}
